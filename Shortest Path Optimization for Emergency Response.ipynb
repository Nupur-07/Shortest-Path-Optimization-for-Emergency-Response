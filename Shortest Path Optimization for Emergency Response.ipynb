{
 "cells": [
  {
   "cell_type": "code",
   "execution_count": 1,
   "id": "53462ccd-d698-4f31-a5ca-4849301f4e57",
   "metadata": {},
   "outputs": [
    {
     "name": "stdin",
     "output_type": "stream",
     "text": [
      "Enter the number of locations (vertices):  3\n",
      "Enter the number of roads (edges):  4\n"
     ]
    },
    {
     "name": "stdout",
     "output_type": "stream",
     "text": [
      "\n",
      "Enter each road as:\n",
      " start_location end_location distance\n"
     ]
    },
    {
     "name": "stdin",
     "output_type": "stream",
     "text": [
      " 0 1 10\n",
      " 1 0 5\n",
      " 1 2 5\n",
      " 2 0 5\n",
      "\n",
      "Enter the emergency center location (source node):  1\n"
     ]
    },
    {
     "name": "stdout",
     "output_type": "stream",
     "text": [
      "\n",
      "Shortest path from emergency center (source): 1\n",
      "Distance to location 0 is 5\n",
      "Distance to location 1 is 0\n",
      "Distance to location 2 is 5\n"
     ]
    },
    {
     "name": "stdin",
     "output_type": "stream",
     "text": [
      "\n",
      "Enter the number of items for resource allocation:  1\n"
     ]
    },
    {
     "name": "stdout",
     "output_type": "stream",
     "text": [
      "\n",
      "Enter each item as: \n",
      "weight value\n"
     ]
    },
    {
     "name": "stdin",
     "output_type": "stream",
     "text": [
      " 10 1\n",
      "Enter the maximum weight capacity of the emergency vehicle:  5\n"
     ]
    },
    {
     "name": "stdout",
     "output_type": "stream",
     "text": [
      "\n",
      "Maximum medical supplies that can be carried: 0\n"
     ]
    }
   ],
   "source": [
    "# Function to find the shortest path from the emergency center using Dijkstra's Algorithm\n",
    "def dijkstra(num_vertices, graph, src):\n",
    "    # Initialize distances with infinity and mark all vertices as unvisited\n",
    "    dist = [float(\"inf\")] * num_vertices\n",
    "    visited = [False] * num_vertices\n",
    "    dist[src] = 0\n",
    "\n",
    "    for _ in range(num_vertices):\n",
    "        # Find the unvisited vertex with the minimum distance\n",
    "        min_dist = float(\"inf\")\n",
    "        u = -1\n",
    "        for i in range(num_vertices):\n",
    "            if not visited[i] and dist[i] < min_dist:\n",
    "                min_dist = dist[i]\n",
    "                u = i\n",
    "        # Mark the selected vertex as visited\n",
    "        visited[u] = True\n",
    "        # Update distances for neighboring vertices\n",
    "        for v, weight in graph[u]:\n",
    "            if not visited[v] and dist[u] + weight < dist[v]:\n",
    "                dist[v] = dist[u] + weight\n",
    "\n",
    "    # Display the shortest path from the source\n",
    "    print(\"\\nShortest path from emergency center (source):\", src)\n",
    "    for i in range(num_vertices):\n",
    "        print(f\"Distance to location {i} is {dist[i]}\")\n",
    "\n",
    "# Function to solve the 0/1 Knapsack Problem for resource allocation\n",
    "def knapsack(max_weight, weights, values):\n",
    "    n = len(values)\n",
    "    dp = [[0 for _ in range(max_weight + 1)] for _ in range(n + 1)]\n",
    "\n",
    "    for i in range(n + 1):\n",
    "        for w in range(max_weight + 1):\n",
    "            if i == 0 or w == 0:\n",
    "                dp[i][w] = 0\n",
    "            elif weights[i - 1] <= w:\n",
    "                dp[i][w] = max(values[i - 1] + dp[i - 1][w - weights[i - 1]], dp[i - 1][w])\n",
    "            else:\n",
    "                dp[i][w] = dp[i - 1][w]\n",
    "\n",
    "    print(\"\\nMaximum medical supplies that can be carried:\", dp[n][max_weight])\n",
    "\n",
    "# User inputs for graph construction\n",
    "num_vertices = int(input(\"Enter the number of locations (vertices): \"))\n",
    "num_edges = int(input(\"Enter the number of roads (edges): \"))\n",
    "\n",
    "# Initialize the graph as an adjacency list\n",
    "graph = {i: [] for i in range(num_vertices)}\n",
    "\n",
    "print(\"\\nEnter each road as:\\n start_location end_location distance\")\n",
    "for _ in range(num_edges):\n",
    "    u, v, weight = map(int, input().split())\n",
    "    graph[u].append((v, weight))\n",
    "    # For undirected graph, add the reverse edge as well:\n",
    "    graph[v].append((u, weight))\n",
    "\n",
    "# Get the source location from the user\n",
    "src = int(input(\"\\nEnter the emergency center location (source node): \"))\n",
    "\n",
    "# Calculate shortest path from the emergency center\n",
    "dijkstra(num_vertices, graph, src)\n",
    "\n",
    "# User inputs for the knapsack problem\n",
    "num_items = int(input(\"\\nEnter the number of items for resource allocation: \"))\n",
    "weights = []\n",
    "values = []\n",
    "\n",
    "print(\"\\nEnter each item as: \\nweight value\")\n",
    "for _ in range(num_items):\n",
    "    weight, value = map(int, input().split())\n",
    "    weights.append(weight)\n",
    "    values.append(value)\n",
    "\n",
    "max_weight = int(input(\"Enter the maximum weight capacity of the emergency vehicle: \"))\n",
    "\n",
    "# Calculate the maximum supplies that can be carried\n",
    "knapsack(max_weight, weights, values)"
   ]
  },
  {
   "cell_type": "code",
   "execution_count": null,
   "id": "9f0c1e1a-bac2-4ac2-9abe-04002283584e",
   "metadata": {},
   "outputs": [],
   "source": []
  }
 ],
 "metadata": {
  "kernelspec": {
   "display_name": "Python 3 (ipykernel)",
   "language": "python",
   "name": "python3"
  },
  "language_info": {
   "codemirror_mode": {
    "name": "ipython",
    "version": 3
   },
   "file_extension": ".py",
   "mimetype": "text/x-python",
   "name": "python",
   "nbconvert_exporter": "python",
   "pygments_lexer": "ipython3",
   "version": "3.12.4"
  }
 },
 "nbformat": 4,
 "nbformat_minor": 5
}
